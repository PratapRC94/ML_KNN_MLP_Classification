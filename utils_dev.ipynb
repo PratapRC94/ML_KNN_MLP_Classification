{
 "cells": [
  {
   "cell_type": "code",
   "execution_count": null,
   "id": "ba96739b",
   "metadata": {},
   "outputs": [],
   "source": [
    "# utils.py: Utility file for implementing helpful utility functions used by the ML algorithms.\n",
    "#\n",
    "# Submitted by: [enter your full name here] -- [enter your IU username here]\n",
    "#\n",
    "# Based on skeleton code by CSCI-B 551 Fall 2021 Course Staff\n",
    "\n",
    "import numpy as np\n",
    "\n",
    "\n",
    "def euclidean_distance(x1, x2):\n",
    "    \"\"\"\n",
    "    Computes and returns the Euclidean distance between two vectors.\n",
    "\n",
    "    Args:\n",
    "        x1: A numpy array of shape (n_features,).\n",
    "        x2: A numpy array of shape (n_features,).\n",
    "    \"\"\"\n",
    "    '''\n",
    "    distance = 0.0\n",
    "    for i in range(len(x1)-1):\n",
    "        distance += (x1[i] - x2[i])**2\n",
    "    return sqrt(distance)\n",
    "    '''\n",
    "    euc_dist = sqrt((np.array(x1) - np.array(x2))**2)\n",
    "    return (euc_dist)\n",
    "\n",
    "    raise NotImplementedError('This function must be implemented by the student.')\n",
    "\n",
    "\n",
    "def manhattan_distance(x1, x2):\n",
    "    \"\"\"\n",
    "    Computes and returns the Manhattan distance between two vectors.\n",
    "\n",
    "    Args:\n",
    "        x1: A numpy array of shape (n_features,).\n",
    "        x2: A numpy array of shape (n_features,).\n",
    "    \"\"\"\n",
    "\n",
    "    raise NotImplementedError('This function must be implemented by the student.')\n",
    "\n",
    "\n",
    "def identity(x, derivative = False):\n",
    "    \"\"\"\n",
    "    Computes and returns the identity activation function of the given input data x. If derivative = True,\n",
    "    the derivative of the activation function is returned instead.\n",
    "\n",
    "    Args:\n",
    "        x: A numpy array of shape (n_samples, n_hidden).\n",
    "        derivative: A boolean representing whether or not the derivative of the function should be returned instead.\n",
    "    \"\"\"\n",
    "\n",
    "    raise NotImplementedError('This function must be implemented by the student.')\n",
    "\n",
    "\n",
    "def sigmoid(x, derivative = False):\n",
    "    \"\"\"\n",
    "    Computes and returns the sigmoid (logistic) activation function of the given input data x. If derivative = True,\n",
    "    the derivative of the activation function is returned instead.\n",
    "\n",
    "    Args:\n",
    "        x: A numpy array of shape (n_samples, n_hidden).\n",
    "        derivative: A boolean representing whether or not the derivative of the function should be returned instead.\n",
    "    \"\"\"\n",
    "\n",
    "    raise NotImplementedError('This function must be implemented by the student.')\n",
    "\n",
    "\n",
    "def tanh(x, derivative = False):\n",
    "    \"\"\"\n",
    "    Computes and returns the hyperbolic tangent activation function of the given input data x. If derivative = True,\n",
    "    the derivative of the activation function is returned instead.\n",
    "\n",
    "    Args:\n",
    "        x: A numpy array of shape (n_samples, n_hidden).\n",
    "        derivative: A boolean representing whether or not the derivative of the function should be returned instead.\n",
    "    \"\"\"\n",
    "\n",
    "    raise NotImplementedError('This function must be implemented by the student.')\n",
    "\n",
    "\n",
    "def relu(x, derivative = False):\n",
    "    \"\"\"\n",
    "    Computes and returns the rectified linear unit activation function of the given input data x. If derivative = True,\n",
    "    the derivative of the activation function is returned instead.\n",
    "\n",
    "    Args:\n",
    "        x: A numpy array of shape (n_samples, n_hidden).\n",
    "        derivative: A boolean representing whether or not the derivative of the function should be returned instead.\n",
    "    \"\"\"\n",
    "\n",
    "    raise NotImplementedError('This function must be implemented by the student.')\n",
    "\n",
    "\n",
    "def softmax(x, derivative = False):\n",
    "    x = np.clip(x, -1e100, 1e100)\n",
    "    if not derivative:\n",
    "        c = np.max(x, axis = 1, keepdims = True)\n",
    "        return np.exp(x - c - np.log(np.sum(np.exp(x - c), axis = 1, keepdims = True)))\n",
    "    else:\n",
    "        return softmax(x) * (1 - softmax(x))\n",
    "\n",
    "\n",
    "def cross_entropy(y, p):\n",
    "    \"\"\"\n",
    "    Computes and returns the cross-entropy loss, defined as the negative log-likelihood of a logistic model that returns\n",
    "    p probabilities for its true class labels y.\n",
    "\n",
    "    Args:\n",
    "        y:\n",
    "            A numpy array of shape (n_samples, n_outputs) representing the one-hot encoded target class values for the\n",
    "            input data used when fitting the model.\n",
    "        p:\n",
    "            A numpy array of shape (n_samples, n_outputs) representing the predicted probabilities from the softmax\n",
    "            output activation function.\n",
    "    \"\"\"\n",
    "\n",
    "    raise NotImplementedError('This function must be implemented by the student.')\n",
    "\n",
    "\n",
    "def one_hot_encoding(y):\n",
    "    \"\"\"\n",
    "    Converts a vector y of categorical target class values into a one-hot numeric array using one-hot encoding: one-hot\n",
    "    encoding creates new binary-valued columns, each of which indicate the presence of each possible value from the\n",
    "    original data.\n",
    "\n",
    "    Args:\n",
    "        y: A numpy array of shape (n_samples,) representing the target class values for each sample in the input data.\n",
    "\n",
    "    Returns:\n",
    "        A numpy array of shape (n_samples, n_outputs) representing the one-hot encoded target class values for the input\n",
    "        data. n_outputs is equal to the number of unique categorical class values in the numpy array y.\n",
    "    \"\"\"\n",
    "\n",
    "    raise NotImplementedError('This function must be implemented by the student.')\n"
   ]
  },
  {
   "cell_type": "code",
   "execution_count": 2,
   "id": "9d12ed43",
   "metadata": {},
   "outputs": [
    {
     "name": "stdout",
     "output_type": "stream",
     "text": [
      "['red' 'green' 'yellow' 'yellow' 'blue' 'red' 'black']\n",
      "[3 2 4 4 1 3 0]\n",
      "[[0. 0. 0. 1. 0.]\n",
      " [0. 0. 1. 0. 0.]\n",
      " [0. 0. 0. 0. 1.]\n",
      " [0. 0. 0. 0. 1.]\n",
      " [0. 1. 0. 0. 0.]\n",
      " [0. 0. 0. 1. 0.]\n",
      " [1. 0. 0. 0. 0.]]\n",
      "['red']\n"
     ]
    }
   ],
   "source": [
    "import numpy as np\n",
    "from numpy import argmax\n",
    "from sklearn.preprocessing import LabelEncoder\n",
    "from sklearn.preprocessing import OneHotEncoder\n",
    "# define example\n",
    "data = ['red','green','yellow','yellow','blue','red','black']\n",
    "values = np.array(data)\n",
    "print(values)\n",
    "# integer encode\n",
    "label_encoder = LabelEncoder()\n",
    "integer_encoded = label_encoder.fit_transform(values)\n",
    "print(integer_encoded)\n",
    "# binary encode\n",
    "onehot_encoder = OneHotEncoder(sparse=False)\n",
    "integer_encoded = integer_encoded.reshape(len(integer_encoded), 1)\n",
    "onehot_encoded = onehot_encoder.fit_transform(integer_encoded)\n",
    "print(onehot_encoded)\n",
    "# invert first example\n",
    "inverted = label_encoder.inverse_transform([argmax(onehot_encoded[0, :])])\n",
    "print(inverted)"
   ]
  },
  {
   "cell_type": "code",
   "execution_count": 26,
   "id": "9c71eed9",
   "metadata": {},
   "outputs": [
    {
     "name": "stdout",
     "output_type": "stream",
     "text": [
      "hello world\n",
      "[7, 4, 11, 11, 14, 26, 22, 14, 17, 11, 3]\n",
      "[[0, 0, 0, 0, 0, 0, 0, 1, 0, 0, 0, 0, 0, 0, 0, 0, 0, 0, 0, 0, 0, 0, 0, 0, 0, 0, 0], [0, 0, 0, 0, 1, 0, 0, 0, 0, 0, 0, 0, 0, 0, 0, 0, 0, 0, 0, 0, 0, 0, 0, 0, 0, 0, 0], [0, 0, 0, 0, 0, 0, 0, 0, 0, 0, 0, 1, 0, 0, 0, 0, 0, 0, 0, 0, 0, 0, 0, 0, 0, 0, 0], [0, 0, 0, 0, 0, 0, 0, 0, 0, 0, 0, 1, 0, 0, 0, 0, 0, 0, 0, 0, 0, 0, 0, 0, 0, 0, 0], [0, 0, 0, 0, 0, 0, 0, 0, 0, 0, 0, 0, 0, 0, 1, 0, 0, 0, 0, 0, 0, 0, 0, 0, 0, 0, 0], [0, 0, 0, 0, 0, 0, 0, 0, 0, 0, 0, 0, 0, 0, 0, 0, 0, 0, 0, 0, 0, 0, 0, 0, 0, 0, 1], [0, 0, 0, 0, 0, 0, 0, 0, 0, 0, 0, 0, 0, 0, 0, 0, 0, 0, 0, 0, 0, 0, 1, 0, 0, 0, 0], [0, 0, 0, 0, 0, 0, 0, 0, 0, 0, 0, 0, 0, 0, 1, 0, 0, 0, 0, 0, 0, 0, 0, 0, 0, 0, 0], [0, 0, 0, 0, 0, 0, 0, 0, 0, 0, 0, 0, 0, 0, 0, 0, 0, 1, 0, 0, 0, 0, 0, 0, 0, 0, 0], [0, 0, 0, 0, 0, 0, 0, 0, 0, 0, 0, 1, 0, 0, 0, 0, 0, 0, 0, 0, 0, 0, 0, 0, 0, 0, 0], [0, 0, 0, 1, 0, 0, 0, 0, 0, 0, 0, 0, 0, 0, 0, 0, 0, 0, 0, 0, 0, 0, 0, 0, 0, 0, 0]]\n",
      "h\n"
     ]
    }
   ],
   "source": [
    "from numpy import argmax\n",
    "# define input string\n",
    "data = 'hello world'\n",
    "print(data)\n",
    "# define universe of possible input values\n",
    "alphabet = 'abcdefghijklmnopqrstuvwxyz '\n",
    "# define a mapping of chars to integers\n",
    "char_to_int = dict((c, i) for i, c in enumerate(alphabet))\n",
    "int_to_char = dict((i, c) for i, c in enumerate(alphabet))\n",
    "# integer encode input data\n",
    "integer_encoded = [char_to_int[char] for char in data]\n",
    "print(integer_encoded)\n",
    "# one hot encode\n",
    "onehot_encoded = list()\n",
    "for value in integer_encoded:\n",
    "\tletter = [0 for _ in range(len(alphabet))]\n",
    "\tletter[value] = 1\n",
    "\tonehot_encoded.append(letter)\n",
    "print(onehot_encoded)\n",
    "# invert encoding\n",
    "inverted = int_to_char[argmax(onehot_encoded[0])]\n",
    "print(inverted)"
   ]
  },
  {
   "cell_type": "code",
   "execution_count": 36,
   "id": "2b322ffa",
   "metadata": {},
   "outputs": [],
   "source": [
    "data = np.array(['red','green','yellow','yellow','blue','red','black'])\n",
    "d_uni = set(data)\n"
   ]
  },
  {
   "cell_type": "code",
   "execution_count": 37,
   "id": "94fb0ea3",
   "metadata": {},
   "outputs": [
    {
     "data": {
      "text/plain": [
       "array(['red', 'green', 'yellow', 'yellow', 'blue', 'red', 'black'],\n",
       "      dtype='<U6')"
      ]
     },
     "execution_count": 37,
     "metadata": {},
     "output_type": "execute_result"
    }
   ],
   "source": [
    "data"
   ]
  },
  {
   "cell_type": "code",
   "execution_count": 38,
   "id": "bd69fde1",
   "metadata": {},
   "outputs": [
    {
     "name": "stdout",
     "output_type": "stream",
     "text": [
      "0 green\n",
      "1 black\n",
      "2 blue\n",
      "3 red\n",
      "4 yellow\n"
     ]
    }
   ],
   "source": [
    "for i, c in enumerate(d_uni):\n",
    "    print(i,c)"
   ]
  },
  {
   "cell_type": "code",
   "execution_count": 31,
   "id": "61232e45",
   "metadata": {},
   "outputs": [
    {
     "data": {
      "text/plain": [
       "{'green': 0, 'black': 1, 'blue': 2, 'red': 3, 'yellow': 4}"
      ]
     },
     "execution_count": 31,
     "metadata": {},
     "output_type": "execute_result"
    }
   ],
   "source": [
    "char_to_int=dict((c, i) for i, c in enumerate(d_uni))\n",
    "char_to_int"
   ]
  },
  {
   "cell_type": "code",
   "execution_count": 33,
   "id": "26763d20",
   "metadata": {},
   "outputs": [
    {
     "data": {
      "text/plain": [
       "{0: 'green', 1: 'black', 2: 'blue', 3: 'red', 4: 'yellow'}"
      ]
     },
     "execution_count": 33,
     "metadata": {},
     "output_type": "execute_result"
    }
   ],
   "source": [
    "dict((i, c) for i, c in enumerate(d_uni))"
   ]
  },
  {
   "cell_type": "code",
   "execution_count": 34,
   "id": "4b47273f",
   "metadata": {},
   "outputs": [
    {
     "data": {
      "text/plain": [
       "[3, 0, 4, 4, 2, 3, 1]"
      ]
     },
     "execution_count": 34,
     "metadata": {},
     "output_type": "execute_result"
    }
   ],
   "source": [
    "integer_encoded=[char_to_int[char] for char in data]\n",
    "integer_encoded"
   ]
  },
  {
   "cell_type": "code",
   "execution_count": 35,
   "id": "3ad9bb86",
   "metadata": {},
   "outputs": [
    {
     "name": "stdout",
     "output_type": "stream",
     "text": [
      "[[0, 0, 0, 1, 0], [1, 0, 0, 0, 0], [0, 0, 0, 0, 1], [0, 0, 0, 0, 1], [0, 0, 1, 0, 0], [0, 0, 0, 1, 0], [0, 1, 0, 0, 0]]\n"
     ]
    }
   ],
   "source": [
    "onehot_encoded = list()\n",
    "for value in integer_encoded:\n",
    "\tletter = [0 for _ in range(len(d_uni))]\n",
    "\tletter[value] = 1\n",
    "\tonehot_encoded.append(letter)\n",
    "print(onehot_encoded)"
   ]
  },
  {
   "cell_type": "code",
   "execution_count": 39,
   "id": "0cec4ee9",
   "metadata": {},
   "outputs": [
    {
     "data": {
      "text/plain": [
       "[[0, 0, 0, 1, 0],\n",
       " [1, 0, 0, 0, 0],\n",
       " [0, 0, 0, 0, 1],\n",
       " [0, 0, 0, 0, 1],\n",
       " [0, 0, 1, 0, 0],\n",
       " [0, 0, 0, 1, 0],\n",
       " [0, 1, 0, 0, 0]]"
      ]
     },
     "execution_count": 39,
     "metadata": {},
     "output_type": "execute_result"
    }
   ],
   "source": [
    "onehot_encoded"
   ]
  },
  {
   "cell_type": "code",
   "execution_count": 40,
   "id": "2f8927fb",
   "metadata": {},
   "outputs": [
    {
     "ename": "TypeError",
     "evalue": "'list' object cannot be interpreted as an integer",
     "output_type": "error",
     "traceback": [
      "\u001b[0;31m---------------------------------------------------------------------------\u001b[0m",
      "\u001b[0;31mTypeError\u001b[0m                                 Traceback (most recent call last)",
      "\u001b[0;32m<ipython-input-40-2ce407fa8e1c>\u001b[0m in \u001b[0;36m<module>\u001b[0;34m\u001b[0m\n\u001b[0;32m----> 1\u001b[0;31m \u001b[0;32mfor\u001b[0m \u001b[0mi\u001b[0m \u001b[0;32min\u001b[0m \u001b[0mrange\u001b[0m\u001b[0;34m(\u001b[0m\u001b[0monehot_encoded\u001b[0m\u001b[0;34m)\u001b[0m\u001b[0;34m:\u001b[0m\u001b[0;34m\u001b[0m\u001b[0;34m\u001b[0m\u001b[0m\n\u001b[0m\u001b[1;32m      2\u001b[0m     \u001b[0mprint\u001b[0m\u001b[0;34m(\u001b[0m\u001b[0mi\u001b[0m\u001b[0;34m)\u001b[0m\u001b[0;34m\u001b[0m\u001b[0;34m\u001b[0m\u001b[0m\n",
      "\u001b[0;31mTypeError\u001b[0m: 'list' object cannot be interpreted as an integer"
     ]
    }
   ],
   "source": [
    "for i in range(onehot_encoded):\n",
    "    print(i)"
   ]
  },
  {
   "cell_type": "code",
   "execution_count": 47,
   "id": "9d0d62b6",
   "metadata": {},
   "outputs": [
    {
     "data": {
      "text/plain": [
       "7"
      ]
     },
     "execution_count": 47,
     "metadata": {},
     "output_type": "execute_result"
    }
   ],
   "source": [
    "len(onehot_encoded)"
   ]
  },
  {
   "cell_type": "code",
   "execution_count": 43,
   "id": "eb5386e8",
   "metadata": {},
   "outputs": [
    {
     "data": {
      "text/plain": [
       "7"
      ]
     },
     "execution_count": 43,
     "metadata": {},
     "output_type": "execute_result"
    }
   ],
   "source": [
    "np.sum(onehot_encoded)"
   ]
  },
  {
   "cell_type": "code",
   "execution_count": 46,
   "id": "1005550f",
   "metadata": {},
   "outputs": [
    {
     "name": "stderr",
     "output_type": "stream",
     "text": [
      "<ipython-input-46-0ad9ba362340>:1: RuntimeWarning: divide by zero encountered in log\n",
      "  x=np.log(np.array([1., 0., 0.]))\n"
     ]
    },
    {
     "data": {
      "text/plain": [
       "array([  0., -inf, -inf])"
      ]
     },
     "execution_count": 46,
     "metadata": {},
     "output_type": "execute_result"
    }
   ],
   "source": [
    "x=np.log(np.array([1., 0., 0.]))\n",
    "x"
   ]
  },
  {
   "cell_type": "code",
   "execution_count": 49,
   "id": "4f81b3c5",
   "metadata": {},
   "outputs": [
    {
     "ename": "AttributeError",
     "evalue": "'list' object has no attribute 'shape'",
     "output_type": "error",
     "traceback": [
      "\u001b[0;31m---------------------------------------------------------------------------\u001b[0m",
      "\u001b[0;31mAttributeError\u001b[0m                            Traceback (most recent call last)",
      "\u001b[0;32m<ipython-input-49-1669c33e5990>\u001b[0m in \u001b[0;36m<module>\u001b[0;34m\u001b[0m\n\u001b[0;32m----> 1\u001b[0;31m \u001b[0monehot_encoded\u001b[0m\u001b[0;34m.\u001b[0m\u001b[0mshape\u001b[0m\u001b[0;34m\u001b[0m\u001b[0;34m\u001b[0m\u001b[0m\n\u001b[0m",
      "\u001b[0;31mAttributeError\u001b[0m: 'list' object has no attribute 'shape'"
     ]
    }
   ],
   "source": [
    "onehot_encoded.shape"
   ]
  },
  {
   "cell_type": "code",
   "execution_count": 52,
   "id": "69613a36",
   "metadata": {},
   "outputs": [
    {
     "data": {
      "text/plain": [
       "7"
      ]
     },
     "execution_count": 52,
     "metadata": {},
     "output_type": "execute_result"
    }
   ],
   "source": [
    "np.sum(np.sum(onehot_encoded,axis=1))"
   ]
  },
  {
   "cell_type": "code",
   "execution_count": null,
   "id": "6248bfdb",
   "metadata": {},
   "outputs": [],
   "source": []
  }
 ],
 "metadata": {
  "kernelspec": {
   "display_name": "Python 3",
   "language": "python",
   "name": "python3"
  },
  "language_info": {
   "codemirror_mode": {
    "name": "ipython",
    "version": 3
   },
   "file_extension": ".py",
   "mimetype": "text/x-python",
   "name": "python",
   "nbconvert_exporter": "python",
   "pygments_lexer": "ipython3",
   "version": "3.8.8"
  }
 },
 "nbformat": 4,
 "nbformat_minor": 5
}
